{
  "cells": [
    {
      "attachments": {},
      "cell_type": "markdown",
      "metadata": {},
      "source": [
        "# Introduction to NLP\n",
        "\n",
        "<!--<badge>--><a href=\"https://colab.research.google.com/github/TheAIDojo/AI_4_Climate_Bootcamp/blob/main/Week 04 - Introduction to Sequence Modelling/1. Introduction to NLP.ipynb\" target=\"_parent\"><img src=\"https://colab.research.google.com/assets/colab-badge.svg\" alt=\"Open In Colab\"/></a><!--</badge>-->\n",
        "\n",
        "Natural Language Processing (NLP) is a field that focuses on the interaction between computers and human language. It deals with the analysis, understanding and generation of human language in a meaningful and useful manner.\n",
        "\n",
        "One of the applications of NLP is sentiment analysis, which is the task of determining whether a given piece of text has a positive, negative or neutral sentiment. Another application is machine translation, which is the task of translating one language into another.\n",
        "\n",
        "TensorFlow and Keras are popular open-source tools used in NLP, which are both highly customizable and flexible. These tools allow you to build and train deep learning models for NLP tasks such as sentiment analysis, text classification and text generation.\n",
        "\n",
        "Pandas, Matplotlib and Numpy are data analysis libraries that are also commonly used in NLP. They allow you to manipulate and visualize data in a meaningful and useful manner.\n",
        "\n",
        "For further reading on NLP and its applications, check out the following resources:\n",
        "- [TensorFlow NLP Tutorials](https://www.tensorflow.org/tutorials/text)\n",
        "- [Keras NLP Guide](https://keras.io/guides/keras_nlp/getting_started/)\n",
        "\n",
        "Let's get started!"
      ]
    },
    {
      "attachments": {},
      "cell_type": "markdown",
      "metadata": {},
      "source": [
        "## Table of Contents <a name=\"toc\"></a>\n",
        "- [Text Preprocessing](#text-preprocessing)\n",
        "  - [Text Cleaning](#text-cleaning)\n",
        "  - [Text Tokenization](#text-tokenization)\n",
        "  - [Text Padding](#text-padding)\n",
        "- [Dense Model Training](#dense-model)\n",
        "- [Word Embeddings](#word-embeddings)\n",
        "  - [Embedding Model](#embedding-model)\n",
        "- [Recurrent Neural Networks (RNNs)](#rnn)\n",
        "  - [Simple RNN Model](#simple-rnn-model)\n",
        "  - [LSTM Model](#lstm-model)\n",
        "  - [GRU Model](#gru-model)\n",
        "  - [Bidirectional RNN Model](#bidirectional-rnn-model)\n"
      ]
    },
    {
      "cell_type": "code",
      "execution_count": 45,
      "metadata": {},
      "outputs": [],
      "source": [
        "# import libaries\n",
        "import numpy as np\n",
        "import pandas as pd\n",
        "import matplotlib.pyplot as plt\n",
        "import tensorflow as tf\n",
        "from sklearn import model_selection\n",
        "from nltk.corpus import (\n",
        "    stopwords,\n",
        ")  # stopwords module from NLTK (Natural Language Toolkit)\n",
        "import re  # built-in regular expression module\n",
        "import string  # built-in string module"
      ]
    },
    {
      "cell_type": "code",
      "execution_count": null,
      "metadata": {},
      "outputs": [],
      "source": [
        "# download stopwords\n",
        "nltk.download(\"stopwords\")"
      ]
    },
    {
      "attachments": {},
      "cell_type": "markdown",
      "metadata": {},
      "source": [
        "# Download Dataset from Kaggle\n",
        "\n",
        "Before running the celll below, make sure you upload your Kaggle API token to the notebook. You can do this by clicking on the \"Files\" tab on the left, then clicking on the \"Upload\" button. You can find your Kaggle API token by going to your Kaggle account, clicking on \"My Account\", then clicking on \"Create New API Token\". You can then upload the \"kaggle.json\" file to the notebook."
      ]
    },
    {
      "cell_type": "code",
      "execution_count": null,
      "metadata": {},
      "outputs": [],
      "source": [
        "# upload kaggle.json into this folder before running this command\n",
        "!mkdir /root/.kaggle\n",
        "!cp kaggle.json /root/.kaggle/kaggle.json\n",
        "!chmod 600 /root/.ka