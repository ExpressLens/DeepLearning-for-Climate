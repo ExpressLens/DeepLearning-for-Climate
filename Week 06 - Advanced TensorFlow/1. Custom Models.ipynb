{
  "cells": [
    {
      "attachments": {},
      "cell_type": "markdown",
      "metadata": {},
      "source": [
        "# Custom Model Building\n",
        "\n",
        "<!--<badge>--><a href=\"https://colab.research.google.com/github/TheAIDojo/AI_4_Climate_Bootcamp/blob/main/Week 06 - Advanced TensorFlow/1. Custom Models.ipynb\" target=\"_parent\"><img src=\"https://colab.research.google.com/assets/colab-badge.svg\" alt=\"Open In Colab\"/></a><!--</badge>-->\n",
        "\n",
        "So far, we have been using the Sequential model and the `.fit()` function to train our models. However, for more advanced tasks, we may need to use more advanced approaches for building and training our models. \n",
        "\n",
        "In this notebook, we will explore building different types of models in TensorFlow:\n",
        "- Sequential models (which we have already seen)\n",
        "- Functional models\n",
        "- Subclassing models\n",
        "\n",
        "Each of these approaches has its own advantages and disadvantages, and it is important to understand when to use each one. For example, functional models are more flexible and allow for more complex architectures, while subclassing models give us more control over the training process.\n",
        "\n",
        "We will start by revisiting the Sequential model and then move on to the other approaches. By the end of this notebook, you will have a better understanding of the different ways to build models in TensorFlow and when to use each one.\n",
        "\n",
        "## Table of Contents <a name=\"toc\"></a>\n",
        "- [Data Loading & Preprocessing](#data)\n",
        "- [Custom Model Building](#custom-models)\n",
        "    - [Sequential Model](#sequential-models)\n",
        "      - [Normal Output](#normal-output)\n",
        "      - [Sparse Output](#sparse-output)\n",
        "      - [Logits Output](#logits-output)\n",
        "    - [Functional Model](#functional-api)\n",
        "    - [Subclassing Model](#subclass)\n",
        "\n"
      ]
    },
    {
      "cell_type": "code",
      "execution_count": 1,
      "metadata": {
        "id": "buNC4XmtsD_4"
      },
      "outputs": [],
      "source": [
        "import numpy as np\n",
        "import pandas as pd\n",
        "import matplotlib.pyplot as plt\n",
        "import tensorflow as tf\n",
        "import tensorflow_datasets as tfds  # datasets\n",
        "from tqdm.notebook import tqdm  # progress bar"
      ]
    },
    {
      "attachments": {},
      "cell_type": "markdown",
      "metadata": {
        "id": "-wCZKOKZFYIp"
      },
      "source": [
        "## Data Loading & Preprocessing <a name=\"data\"></a>\n",
        "[Back to Top](#toc)\n",
        "\n",
        "We will revisit the Fashion MNIST dataset that we used in the previous notebook. This time we will load it using `tensorflow_datasets`. This is a library that provides a number of popular datasets and makes it easy to load them into TensorFlow."
      ]
    },
    {
      "cell_type": "code",
      "execution_count": 2,
      "metadata": {
        "colab": {
          "base_uri": "https://localhost:8080/"
        },
        "id": "-tMmFLTrtvf6",
        "outputId": "d478fabd-a564-4b8a-ac79-d5c7f28b0fa6"
      },
      "outputs": [
        {
          "name": "stdout",
          "output_type": "stream",
          "text": [
            "Metal device set to: Apple M2 Pro\n",
            "\n",
            "systemMemory: 32.00 GB\n",
            "maxCacheSize: 10.67 GB\n",
            "\n"
          ]
        },
        {
          "name": "stderr",
          "output_type": "stream",
          "text": [
            "2023-02-14 18:27:33.827918: I tensorflow/core/common_runtime/pluggable_device/pluggable_device_factory.cc:305] Could not identify NUMA node of platform GPU ID 0, defaulting to 0. Your kernel may not have been built with NUMA support.\n",
            "2023-02-14 18:27:33.828069: I tensorflow/core/common_runtime/pluggable_device/pluggable_device_factory.cc:271] Created TensorFlow device (/job:localhost/replica:0/task:0/device:GPU:0 with 0 MB memory) -> physical PluggableDevice (device: 0, name: METAL, pci bus id: <undefined>)\n"
          ]
        },
        {
          "data": {
            "text/plain": [
              "tfds.core.DatasetInfo(\n",
              "    name='fashion_mnist',\n",
              "    full_name='fashion_mnist/3.0.1',\n",
              "    description=\"\"\"\n",
              "    Fashion-MNIST is a dataset of Zalando's article images consisting of a training set of 60,000 examples and a test set of 10,000 examples. Each example is a 28x28 grayscale image, associated with a label from 10 classes.\n",
              "    \"\"\",\n",
              "    homepage='https://github.com/zalandoresearch/fashion-mnist',\n",
              "    data_path='/Users/sniperdw/tensorflow_datasets/fashion_mnist/3.0.1',\n",
              "    file_format=tfrecord,\n",
              "    download_size=29.45 MiB,\n",
              "    dataset_size=36.42 MiB,\n",
              "    features=FeaturesDict({\n",
              "        'image': Image(shape=(28, 28, 1), dtype=uint8),\n",
              "        'label': ClassLabel(shape=(), dtype=int64, num_classes=10),\n",
              "    }),\n",
              "    supervised_keys=('image', 'label'),\n",
              "    disable_shuffling=False,\n",
              "    splits={\n",
              "        'test': <SplitInfo num_examples=10000, num_shards=1>,\n",
              "        'train': <SplitInfo num_examples=60000, num_shards=1>,\n",
              "    },\n",
              "    citation=\"\"\"@article{DBLP:journals/corr/abs-1708-07747,\n",
              "      author    = {Han Xiao and\n",
              "                   Kashif Rasul and\n",
              "                   Roland Vollgraf},\n",
              "      title     = {Fashion-MNIST: a Novel Image Dataset for Benchmarking Machine Learning\n",
              "                   Algorithms},\n",
              "      journal   = {CoRR},\n",
              "      volume    = {abs/1708.07747},\n",
              "      year      = {2017},\n",
              "      url       = {http://arxiv.org/abs/1708.07747},\n",
              "      archivePrefix = {arXiv},\n",
              "      eprint    = {1708.07747},\n",
              "      timestamp = {Mon, 13 Aug 2018 16:47:27 +0200},\n",
              "      biburl    = {https://dblp.org/rec/bib/journals/corr/abs-1708-07747},\n",
              "      bibsource = {dblp computer science bibliography, https://dblp.org}\n",
              "    }\"\"\",\n",
              ")"
            ]
          },
          "execution_count": 2,
          "metadata": {},
          "output_type": "execute_result"
        }
      ],
      "source": [
        "dataset, info = tfds.load(\n",
        "    \"fashion_mnist\",  # name of the dataset\n",
        "    as_supervised=True,  # returns (image, label)\n",
        "    with_info=True,  # returns info about the dataset\n",
        ")\n",
        "\n",
        "# display info about the dataset\n",
        "info"
      ]
    },
    {
      "cell_type": "code",
      "execution_count": 3,
      "metadata": {
        "id": "hXKYmJn6t9kg"
      },
      "outputs": [
        {
          "data": {
            "text/plain": [
              "<PrefetchDataset element_spec=(TensorSpec(shape=(28, 28, 1), dtype=tf.uint8, name=None), TensorSpec(shape=(), dtype=tf.int64, name=None))>"
            ]
          },
          "execution_count": 3,
          "metadata": {},
          "output_type": "execute_result"
        }
      ],
      "source": [
        "# from the info we see that there are 2 splits: train and test. We can access them like this:\n",
        "dataset[\"train\"]  # train split\n",
        "dataset[\"test\"]  # test split"
      ]
    },
    {
      "cell_type": "code",
      "execution_count": 4,
      "metadata": {
        "colab": {
          "base_uri": "https://localhost:8080/"
        },
        "id": "4w0md9t0C8f1",
        "outputId": "005ad719-a4aa-462f-f2c5-7afe4919f57c"
      },
      "outputs": [
        {
          "data": {
            "text/plain": [
              "['T-shirt/top',\n",
              " 'Trouser',\n",
              " 'Pullover',\n",
              " 'Dress',\n",
              " 'Coat',\n",
              " 'Sandal',\n",
              " 'Shirt',\n",
              " 'Sneaker',\n",
              " 'Bag',\n",
              " 'Ankle boot']"
            ]
          },
          "execution_count": 4,
          "metadata": {},
          "output_type": "execute_result"
        }
      ],
      "source": [
        "# we can also access classes and thier names\n",
        "labels_index = info.features[\"label\"].names\n",
        "labels_index"
      ]
    },
    {
      "cell_type": "code",
      "execution_count": 6,
      "metadata": {
        "colab": {
          "base_uri": "https://localhost:8080/",
          "height": 253
        },
        "id": "kOeT7IfjukDz",
        "outputId": "4638a1e3-d7a7-48c5-b103-33c3e2dfbc48"
      },
      "outputs": [
        {
          "name": "stderr",
          "output_type": "stream",
          "text": [
            "2023-02-14 18:28:18.939821: W tensorflow/core/platform/profile_utils/cpu_utils.cc:128] Failed to get CPU frequency: 0 Hz\n",
            "2023-02-14 18:28:19.040734: W tensorflow/core/kernels/data/cache_dataset_ops.cc:856] The calling iterator did not fully read the dataset being cached. In order to avoid unexpected truncation of the dataset, the partially cached contents of the dataset  will be discarded. This can happen if you have an input pipeline similar to `dataset.cache().take(k).repeat()`. You should use `dataset.take(k).cache().repeat()` instead.\n"
          ]
        },
        {
          "data": {
            "image/png": "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