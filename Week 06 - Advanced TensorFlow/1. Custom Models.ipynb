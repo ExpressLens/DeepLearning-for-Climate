{
  "cells": [
    {
      "attachments": {},
      "cell_type": "markdown",
      "metadata": {},
      "source": [
        "# Custom Model Building\n",
        "\n",
        "<!--<badge>--><a href=\"https://colab.research.google.com/github/TheAIDojo/AI_4_Climate_Bootcamp/blob/main/Week 06 - Advanced TensorFlow/1. Custom Models.ipynb\" target=\"_parent\"><img src=\"https://colab.research.google.com/assets/colab-badge.svg\" alt=\"Open In Colab\"/></a><!--</badge>-->\n",
        "\n",
        "So far, we have been using the Sequential model and the `.fit()` function to train our models. However, for more advanced tasks, we may need to use more advanced approaches for building and training our models. \n",
        "\n",
        "In this notebook, we will explore building different types of models in TensorFlow:\n",
        "- Sequential models (which we have already seen)\n",
        "- Functional models\n",
        "- Subclassing models\n",
        "\n",
        "Each of these approaches has its own advantages and disadvantages, and it is important to understand when to use each one. For example, functional models are more flexible and allow for more complex architectures, while subclassing models give us more control over the training process.\n",
        "\n",
        "We will start by revisiting the Sequential model and then move on to the other approaches. By the end of this notebook, you will have a better understanding of the different ways to build models in TensorFlow and when to use each one.\n",
        "\n",
        "## Table of Contents <a name=\"toc\"></a>\n",
        "- [Data Loading & Preprocessing](#data)\n",
        "- [Custom Model Building](#custom-models)\n",
        "    - [Sequential Model](#sequential-models)\n",
        "      - [Normal Output](#normal-output)\n",
        "      - [Sparse Output](#sparse-output)\n",
        "      - [Logits Output](#logits-output)\n",
        "    - [Functional Model](#functional-api)\n",
        "    - [Subclassing Model](#subclass)\n",
        "\n"
      ]
    },
    {
      "cell_type": "code",
      "execution_count": 1,
      "metadata": {
        "id": "buNC4XmtsD_4"
      },
      "outputs": [],
      "source": [
        "import numpy as np\n",
        "import pandas as pd\n",
        "import matplotlib.pyplot as plt\n",
        "import tensorflow as tf\n",
        "import tensorflow_datasets as tfds  # datasets\n",
        "from tqdm.notebook import tqdm  # progress bar"
      ]
    },
    {
      "attachments": {},
      "cell_type": "markdown",
      "metadata": {
        "id": "-wCZKOKZFYIp"
      },
      "source": [
        "## Data Loading & Preprocessing <a name=\"data\"></a>\n",
        "[Back to Top](#toc)\n",
        "\n",
        "We will revisit the Fashion MNIST dataset that we used in the previous notebook. This time we will load it using `tensorflow_datasets`. This is a library that provides a number of popular datasets and makes it easy to load them into TensorFlow."
      ]
    },
    {
      "cell_type": "code",
      "execution_count": 2,
      "metadata": {
        "colab": {
          "base_uri": "https://localhost:8080/"
        },
        "id": "-tMmFLTrtvf6",
        "outputId": "d478fabd-a564-4b8a-ac79-d5c7f28b0fa6"
      },
      "outputs": [
        {
          "name": "stdout",
          "output_type": "stream",
          "text": [
            "Metal device set to: Apple M2 Pro\n",
            "\n",
            "systemMemory: 32.00 GB\n",
            "maxCacheSize: 10.67 GB\n",
            "\n"
          ]
        },
        {
          "name": "stderr",
          "output_type": "stream",
          "text": [
            "2023-02-14 18:27:33.827918: I tensorflow/core/common_runtime/pluggable_device/pluggable_device_factory.cc:305] Could not identify NUMA node of platform GPU ID 0, defaulting to 0. Your kernel may not have been built with NUMA support.\n",
            "2023-02-14 18:27:33.828069: I tensorflow/core/common_runtime/pluggable_device/pluggable_device_factory.cc:271] Created TensorFlow device (/job:localhost/replica:0/task:0/device:GPU:0 with 0 MB memory) -> physical PluggableDevice (device: 0, name: METAL, pci bus id: <undefined>)\n"
          ]
        },
        {
          "data": {
            "text/plain": [
              "tfds.core.DatasetInfo(\n",
              "    name='fashion_mnist',\n",
              "    full_name='fashion_mnist/3.0.1',\n",
              "    description=\"\"\"\n",
              "    Fashion-MNIST is a dataset of Zalando's article images consisting of a training set of 60,000 examples and a test set of 10,000 examples. Each example is a 28x28 grayscale image, associated with a label from 10 classes.\n",
              "    \"\"\",\n",
              "    homepage='https://github.com/zalandoresearch/fashion-mnist',\n",
              "    data_path='/Users/sniperdw/tensorflow_datasets/fashion_mnist/3.0.1',\n",
              "    file_format=tfrecord,\n",
              "    download_size=29.45 MiB,\n",
              "    dataset_size=36.42 MiB,\n",
              "    features=FeaturesDict({\n",
              "        'image': Image(shape=(28, 28, 1), dtype=uint8),\n",
              "        'label': ClassLabel(shape=(), dtype=int64, num_classes=10),\n",
              "    }),\n",
              "    supervised_keys=('image', 'label'),\n",
              "    disable_shuffling=False,\n",
              "    splits={\n",
              "        'test': <SplitInfo num_examples=10000, num_shards=1>,\n",
              "        'train': <SplitInfo num_examples=60000, num_shards=1>,\n",
              "    },\n",
              "    citation=\"\"\"@article{DBLP:journals/corr/abs-1708-07747,\n",
              "      author    = {Han Xiao and\n",
              "                   Kashif Rasul and\n",
              "                   Roland Vollgraf},\n",
              "      title     = {Fashion-MNIST: a Novel Image Dataset for Benchmarking Machine Learning\n",
              "                   Algorithms},\n",
              "      journal   = {CoRR},\n",
              "      volume    = {abs/1708.07747},\n",
              "      year      = {2017},\n",
              "      url       = {http://arxiv.org/abs/1708.07747},\n",
              "      archivePrefix = {arXiv},\n",
              "      eprint    = {1708.07747},\n",
              "      timestamp = {Mon, 13 Aug 2018 16:47:27 +0200},\n",
              "      biburl    = {https://dblp.org/rec/bib/journals/corr/abs-1708-07747},\n",
              "      bibsource = {dblp computer science bibliography, https://dblp.org}\n",
              "    }\"\"\",\n",
              ")"
            ]
          },
          "execution_count": 2,
          "metadata": {},
          "output_type": "execute_result"
        }
      ],
      "source": [
        "dataset, info = tfds.load(\n",
        "    \"fashion_mnist\",  # name of the dataset\n",
        "    as_supervised=True,  # returns (image, label)\n",
        "    with_info=True,  # returns info about the dataset\n",
        ")\n",
        "\n",
        "# display info about the dataset\n",
        "info"
      ]
    },
    {
      "cell_type": "code",
      "execution_count": 3,
      "metadata": {
        "id": "hXKYmJn6t9kg"
      },
      "outputs": [
        {
          "data": {
            "text/plain": [
              "<PrefetchDataset element_spec=(TensorSpec(shape=(28, 28, 1), dtype=tf.uint8, name=None), TensorSpec(shape=(), dtype=tf.int64, name=None))>"
            ]
          },
          "execution_count": 3,
          "metadata": {},
          "output_type": "execute_result"
        }
      ],
      "source": [
        "# from the info we see that there are 2 splits: train and test. We can access them like this:\n",
        "dataset[\"train\"]  # train split\n",
        "dataset[\"test\"]  # test split"
      ]
    },
    {
      "cell_type": "code",
      "execution_count": 4,
      "metadata": {
        "colab": {
          "base_uri": "https://localhost:8080/"
        },
        "id": "4w0md9t0C8f1",
        "outputId": "005ad719-a4aa-462f-f2c5-7afe4919f57c"
      },
      "outputs": [
        {
          "data": {
            "text/plain": [
              "['T-shirt/top',\n",
              " 'Trouser',\n",
              " 'Pullover',\n",
              " 'Dress',\n",
              " 'Coat',\n",
              " 'Sandal',\n",
              " 'Shirt',\n",
              " 'Sneaker',\n",
              " 'Bag',\n",
              " 'Ankle boot']"
            ]
          },
          "execution_count": 4,
          "metadata": {},
          "output_type": "execute_result"
        }
      ],
      "source": [
        "# we can also access classes and thier names\n",
        "labels_index = info.features[\"label\"].names\n",
        "labels_index"
      ]
    },
    {
      "cell_type": "code",
      "execution_count": 6,
      "metadata": {
        "colab": {
          "base_uri": "https://localhost:8080/",
          "height": 253
        },
        "id": "kOeT7IfjukDz",
        "outputId": "4638a1e3-d7a7-48c5-b103-33c3e2dfbc48"
      },
      "outputs": [
        {
          "name": "stderr",
          "output_type": "stream",
          "text": [
            "2023-02-14 18:28:18.939821: W tensorflow/core/platform/profile_utils/cpu_utils.cc:128] Failed to get CPU frequency: 0 Hz\n",
            "2023-02-14 18:28:19.040734: W tensorflow/core/kernels/data/cache_dataset_ops.cc:856] The calling iterator did not fully read the dataset being cached. In order to avoid unexpected truncation of the dataset, the partially cached contents of the dataset  will be discarded. This can happen if you have an input pipeline similar to `dataset.cache().take(k).repeat()`. You should use `dataset.take(k).cache().repeat()` instead.\n"
          ]
        },
        {
          "data": {
            "image/png": "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