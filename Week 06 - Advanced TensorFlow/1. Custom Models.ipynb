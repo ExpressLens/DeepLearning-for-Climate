{
  "cells": [
    {
      "attachments": {},
      "cell_type": "markdown",
      "metadata": {},
      "source": [
        "# Custom Model Building\n",
        "\n",
        "<!--<badge>--><a href=\"https://colab.research.google.com/github/TheAIDojo/AI_4_Climate_Bootcamp/blob/main/Week 06 - Advanced TensorFlow/1. Custom Models.ipynb\" target=\"_parent\"><img src=\"https://colab.research.google.com/assets/colab-badge.svg\" alt=\"Open In Colab\"/></a><!--</badge>-->\n",
        "\n",
        "So far, we have been using the Sequential model and the `.fit()` function to train our models. However, for more advanced tasks, we may need to use more advanced approaches for building and training our models. \n",
        "\n",
        "In this notebook, we will explore building different types of models in TensorFlow:\n",
        "- Sequential models (which we have already seen)\n",
        "- Functional models\n",
        "- Subclassing models\n",
        "\n",
        "Each of these approaches has its own advantages and disadvantages, and it is important to understand when to use each one. For example, functional models are more flexible and allow for more complex architectures, while subclassing models give us more control over the training process.\n",
        "\n",
        "We will start by revisiting the Sequential model and then move on to the other approaches. By the end of this notebook, you will have a better understanding of the different ways to build models in TensorFlow and when to use each one.\n",
        "\n",
        "## Table of Contents <a name=\"toc\"></a>\n",
        "- [Data Loading & Preprocessing](#data)\n",
        "- [Custom Model Building](#custom-models)\n",
        "    - [Sequential Model](#sequential-models)\n",
        "      - [Normal Output](#normal-output)\n",
        "      - [Sparse Output](#sparse-output)\n",
        "      - [Logits Output](#logits-output)\n",
        "    - [Functional Model](#functional-api)\n",
        "    - [Subclassing Model](#subclass)\n",
        "\n"
      ]
    },
    {
      "cell_type": "code",
      "execution_count": 1,
      "metadata": {
        "id": "buNC4XmtsD_4"
      },
      "outputs": [],
      "source": [
        "import numpy as np\n",
        "import pandas as pd\n",
        "import matplotlib.pyplot as plt\n",
        "import tensorflow as tf\n",
        "import tensorflow_datasets as tfds  # datasets\n",
        "from tqdm.notebook import tqdm  # progress bar"
      ]
    },
    {
      "attachments": {},
      "cell_type": "markdown",
      "metadata": {
        "id": "-wCZKOKZFYIp"
      },
      "source": [
        "## Data Loading & Preprocessing <a name=\"data\"></a>\n",
        "[Back to Top](#toc)\n",
        "\n",
        "We will revisit the Fashion MNIST dataset that we used in the previous notebook. This time we will load it using `tensorflow_datasets`. This is a library that provides a number of popular datasets and makes it easy to load them into TensorFlow."
      ]
    },
    {
      "cell_type": "code",
      "execution_count": 2,
      "metadata": {
        "colab": {
          "base_uri": "https://localhost:8080/"
        },
        "id": "-tMmFLTrtvf6",
        "outputId": "d478fabd-a564-4b8a-ac79-d5c7f28b0fa6"
      },
      "outputs": [
        {
          "name": "stdout",
          "output_type": "stream",
          "text": [
            "Metal device set to: Apple M2 Pro\n",
            "\n",
            "systemMemory: 32.00 GB\n",
            "maxCacheSize: 10.67 GB\n",
            "\n"
          ]
        },
        {
          "name": "stderr",
          "output_type": "stream",
          "text": [
            "2023-02-14 18:27:33.827918: I tensorflow/core/common_runtime/pluggable_device/pluggable_device_factory.cc:305] Could not identify NUMA node of platform GPU ID 0, defaulting to 0. Your kernel may not have been built with NUMA support.\n",
            "2023-02-14 18:27:33.828069: I tensorflow/core/common_runtime/pluggable_device/pluggable_device_factory.cc:271] Created TensorFlow device (/job:localhost/replica:0/task:0/device:GPU:0 with 0 MB memory) -> physical PluggableDevice (device: 0, name: METAL, pci bus id: <undefined>)\n"
          ]
        },
        {
          "data": {
            "text/plain": [
              "tfds.core.DatasetInfo(\n",
              "    name='fashion_mnist',\n",
              "    full_name='fashion_mnist/3.0.1',\n",
              "    description=\"\"\"\n",
              "    Fashion-MNIST is a dataset of Zalando's article images consisting of a training set of 60,000 examples and a test set of 10,000 examples. Each example is a 28x28 grayscale image, associated with a label from 10 classes.\n",
              "    \"\"\",\n",
              "    homepage='https://github.com/zalandoresearch/fashion-mnist',\n",
              "    data_path='/Users/sniperdw/tensorflow_datasets/fashion_mnist/3.0.1',\n",
              "    file_format=tfrecord,\n",
              "    download_size=29.45 MiB,\n",
              "    dataset_size=36.42 MiB,\n",
              "    features=FeaturesDict({\n",
              "        'image': Image(shape=(28, 28, 1), dtype=uint8),\n",
              "        'label': ClassLabel(shape=(), dtype=int64, num_classes=10),\n",
              "    }),\n",
              "    supervised_keys=('image', 'label'),\n",
              "    disable_shuffling=False,\n",
              "    splits={\n",
              "        'test': <SplitInfo num_examples=10000, num_shards=1>,\n",
              "        'train': <SplitInfo num_examples=60000, num_shards=1>,\n",
              "    },\n",
              "    citation=\"\"\"@article{DBLP:journals/corr/abs-1708-07747,\n",
              "      author    = {Han Xiao and\n",
              "                   Kashif Rasul and\n",
              "                   Roland Vollgraf},\n",
              "      title     = {Fashion-MNIST: a Novel Image Dataset for Benchmarking Machine Learning\n",
              "                   Algorithms},\n",
              "      journal   = {CoRR},\n",
              "      volume    = {abs/1708.07747},\n",
              "      year      = {2017},\n",
              "      url       = {http://arxiv.org/abs/1708.07747},\n",
              "      archivePrefix = {arXiv},\n",
              "      eprint    = {1708.07747},\n",
              "      timestamp = {Mon, 13 Aug 2018 16:47:27 +0200},\n",
              "      biburl    = {https://dblp.org/rec/bib/journals/corr/abs-1708-07747},\n",
              "      bibsource = {dblp computer science bibliography, https://dblp.org}\n",
              "    }\"\"\",\n",
              ")"
            ]
          },
          "execution_count": 2,
          "metadata": {},
          "output_type": "execute_result"
        }
      ],
      "source": [
        "dataset, info = tfds.load(\n",
        "    \"fashion_mnist\",  # name of the dataset\n",
        "    as_supervised=True,  # returns (image, label)\n",
        "    with_info=True,  # returns info about the dataset\n",
        ")\n",
        "