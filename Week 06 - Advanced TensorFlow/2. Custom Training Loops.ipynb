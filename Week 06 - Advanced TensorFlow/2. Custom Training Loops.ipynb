{
 "cells": [
  {
   "attachments": {},
   "cell_type": "markdown",
   "metadata": {},
   "source": [
    "# Custom Training Loops\n",
    "\n",
    "Custom training loops are a powerful tool for training deep learning models. They are used when the standard `fit` method provided by `Keras` or other high-level libraries is not enough to achieve the desired behavior.\n",
    "\n",
    "Custom training loops provide full control over the training process, including the forward and backward pass, the optimization step, and the calculation of metrics. This allows for the implementation of complex training procedures, such as multi-stage training, transfer learning, or custom regularization methods.\n",
    "\n",
    "The steps to create a custom training loop after preparing the data and defining the model are:\n",
    "\n",
    "1. Define essential variables like the optimizer, loss function, and metrics that will be used to evaluate the model's performance.\n",
    "2. Create a training step function that will be used to perform a single training step. This function will be called for each batch of data in the training set. The training step function should perform the following steps:\n",
    "   - Calculate the forward pass passing the input data to the model and calculating the predictions.\n",
    "   - Calculate the loss using the predictions and the true labels.\n",
    "   - Calculate the gradients using the loss and the model's variables.\n",
    "   - Apply parameters update using the optimizer and the gradients.\n",
    "   - Calculate the metrics using the predictions and the true labels.\n",
    "3. Create a test step function that will be used to perform a single test step. This function will be called for each batch of data in the test set. The test step function should perform the following steps:\n",
    "   - Calculate the forward pass passing the input data to the model and calculating the predictions.\n",
    "   - Calculate the loss using the predictions and the true labels.\n",
    "   - Calculate the metrics using the predictions and the true labels.\n",
    "4. Create a training loop that will be used to perform the training and test steps for each epoch. The training loop should perform the following steps:\n",
    "   - Iterate over the training set and call the training step function for each batch.\n",
    "   - Iterate over the test set and call the test step function for each batch.\n",
    "   - Print the loss and metrics for the current epoch.\n",
    "5. Profit!\n",
    "\n",
    "By using custom training loops, you can achieve better control and flexibility over the training process and achieve better results for your specific use case.\n",
    "\n",
    "## Table of Contents\n",
    "- [Dataset Preparation](#dataset-preparation)\n",
    "- [Model Definition](#model-definition)\n",
    "- [Custom Training Loop](#custom-training-loop)"
   ]
  },
  {
   "cell_type": "code",
   "execution_count": 1,
   "metadata": {},
   "outputs": [],
   "source": [
    "import numpy as np\n",
    "import pandas as pd\n",
    "import matplotlib.pyplot as plt\n",
    "import tensorflow as tf\n",
    "import tensorflow_datasets as tfds  # datasets\n",
    "from tqdm.notebook import tqdm  # progress bar"
   ]
  },
  {
   "attachments": {},
   "cell_type": "markdown",
   "metadata": {},
   "source": [
    "## Dataset Preparation <a name=\"dataset-preparation\"></a>\n",
    "[Back to Top](#toc)\n",
    "\n",
    "We'll use the same dataset setup as in the previous notebook."
   ]
  },
  {
   "cell_type": "code",